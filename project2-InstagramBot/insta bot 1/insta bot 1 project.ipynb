{
 "cells": [
  {
   "cell_type": "markdown",
   "id": "a3532644",
   "metadata": {},
   "source": [
    "## InstaBot Introduction - Part 1"
   ]
  },
  {
   "cell_type": "markdown",
   "id": "7ddf5245",
   "metadata": {},
   "source": [
    "### Your friend has opened a new Food Blogging handle on Instagram and wants to get famous. He wants to follow a lot of people so that he can get noticed quickly but it is a tedious task so he asks you to help him. As you have just learned automation using Selenium, you decided to help him by creating an Instagram Bot."
   ]
  },
  {
   "cell_type": "markdown",
   "id": "71d8b09b",
   "metadata": {},
   "source": [
    "### You need to create different functions for each task."
   ]
  },
  {
   "cell_type": "markdown",
   "id": "51a86a93",
   "metadata": {},
   "source": [
    "### Note :\n",
    "### Don’t forget to remove your Username and Password from the python notebook before submission.\n",
    "### Replace your username and password by ‘SAMPLE USERNAME’ and ‘SAMPLE PASSWORD’ where you have used them in your code for logging in to instagram\n",
    "### Upload your code file for submission of this project"
   ]
  },
  {
   "cell_type": "markdown",
   "id": "65332edb",
   "metadata": {},
   "source": [
    "#### Q.1) Login to your Instagram Handle Submit with sample username and password"
   ]
  },
  {
   "cell_type": "code",
   "execution_count": 2,
   "id": "49eb9ae1",
   "metadata": {},
   "outputs": [],
   "source": [
    "## IMPORTING ALL THE NEEDED LIBRARIES FOR THIS PROJECT\n",
    "import selenium\n",
    "from selenium import webdriver\n",
    "import time\n",
    "from selenium.webdriver.common.by import By\n",
    "from selenium.webdriver.support.ui import WebDriverWait\n",
    "from selenium.webdriver.support import expected_conditions as EC\n",
    "from selenium.common.exceptions import TimeoutException\n",
    "from selenium.common.exceptions import NoSuchElementException\n",
    "\n",
    "## initialise driver session.\n",
    "driver=webdriver.Chrome(executable_path ='C:\\\\Users\\HP\\Desktop\\chromedriver')"
   ]
  },
  {
   "cell_type": "code",
   "execution_count": null,
   "id": "bb1effaf",
   "metadata": {},
   "outputs": [],
   "source": [
    "## login to instagram handle.\n",
    "def login():\n",
    "    driver.get('https://www.instagram.com/')\n",
    "    driver.maximize_window()\n",
    "    time.sleep(5)\n",
    "    driver.find_element(by=By.XPATH,value='//div/div/label/input[@type=\"text\"]').send_keys(\"sample username\")\n",
    "    driver.find_element(by=By.XPATH,value='//div/div/label/input[@type=\"password\"]').send_keys(\"sample password\")\n",
    "    driver.find_element(by=By.XPATH,value='//button/div[text()=\"Log In\"]').click()\n",
    "    time.sleep(5)\n",
    "    try:\n",
    "        popup =driver.find_element(by=By.XPATH,value='//div/button[text()=\"Not Now\"]')\n",
    "        if popup.is_enabled:\n",
    "            popup.click()\n",
    "        popup =driver.find_element(by=By.XPATH,value='//div/button[text()=\"Not Now\"]')\n",
    "        if popup.is_enabled:\n",
    "            popup.click()\n",
    "    except NoSuchElementException:\n",
    "        pass\n",
    "login()\n",
    "\n",
    "time.sleep(5)"
   ]
  },
  {
   "cell_type": "markdown",
   "id": "bae96b83",
   "metadata": {},
   "source": [
    "#### Q.2) Type for “food” in search bar and print all the names of the Instagram Handles that are displayed in list after typing “food”\n",
    "#### Note : Make sure to avoid printing hashtags"
   ]
  },
  {
   "cell_type": "code",
   "execution_count": null,
   "id": "47b5506e",
   "metadata": {},
   "outputs": [],
   "source": [
    "## FUNCTION TO SEND KEYWORDS TO TEXT BOX\n",
    "def send(key):\n",
    "    driver.find_element(by=By.XPATH,value='//div/div/div/div/input[@type=\"text\"]').clear()\n",
    "    driver.find_element(by=By.XPATH,value='//div/div/div/div/input[@type=\"text\"]').send_keys(\"key\")\n",
    "    time.sleep(5)"
   ]
  },
  {
   "cell_type": "code",
   "execution_count": null,
   "id": "6fdc5b04",
   "metadata": {},
   "outputs": [],
   "source": [
    "## print the names listed\n",
    "def food():\n",
    "    send(\"food\")\n",
    "    names=driver.find_elements(by=By.XPATH,value='//div/a/div//div/div/div/div/div')\n",
    "    result=[]\n",
    "    for i in names:\n",
    "        result.append(i.text)\n",
    "    for i in result:\n",
    "        if i != '':\n",
    "            print(i)\n",
    "food()\n",
    "\n",
    "time.sleep(10)"
   ]
  },
  {
   "cell_type": "code",
   "execution_count": null,
   "id": "bdef5d48",
   "metadata": {},
   "outputs": [],
   "source": [
    "foodie_sha_\n",
    "food_addii\n",
    "food__voyager\n",
    "foodie_incarnate\n",
    "foodhunter_sabu\n",
    "keralafoodvibes\n",
    "food\n",
    "kochin_food_blogger\n",
    "foodward_fyz\n",
    "foodaholic_malluboy\n",
    "foodexplore_ani\n",
    "cochinfoodalert\n",
    "kozhikode_food_stories\n",
    "foodieshamsi\n",
    "foodrider_\n",
    "angamalyfooddiaries\n",
    "foodie_frm_palakkad\n",
    "kollamfoodies\n",
    "f.o.o.d.t.h.e.r.a.p.y\n",
    "foood__explorer\n",
    "thrissur.food.snaps\n",
    "meghnasfoodmagic\n",
    "foodie_from_payyanur\n",
    "food__destinations_\n",
    "kerala.food.diaries\n",
    "_foodiee_panda_98\n",
    "food_technology_2022\n",
    "foodgrammer_dxb\n",
    "foodporn\n",
    "keralafoodie\n",
    "thrissurfoodies\n",
    "yathra_lahari_\n",
    "foodtech_malayalam\n",
    "foodie_mallu_kozhikode\n",
    "foodgod\n",
    "malappuramfoodvlogger\n",
    "villagefoodchannel_official\n",
    "sarangs_food_garage\n",
    "food_kochi\n",
    "omkv_food_village\n",
    "kollamfoodstories\n",
    "foodie_muscle_man\n",
    "food__safari____\n",
    "food_o_foods\n",
    "food_tech_kerala\n",
    "travel_for_food___\n",
    "food_techies"
   ]
  },
  {
   "cell_type": "markdown",
   "id": "c08d4fd5",
   "metadata": {},
   "source": [
    "#### Q.3) Searching and Opening a profile using  Open profile of “So Delhi” "
   ]
  },
  {
   "cell_type": "code",
   "execution_count": null,
   "id": "fdb58780",
   "metadata": {},
   "outputs": [],
   "source": [
    "def openprofile(key):\n",
    "    send(key)\n",
    "    time.sleep(5)\n",
    "    driver.find_element(by=By.XPATH,value='//div[contains(@role,\"none\")]').click()\n",
    "\n",
    "openprofile(\"So Delhi\")\n",
    "\n",
    "time.sleep(5)"
   ]
  },
  {
   "cell_type": "markdown",
   "id": "31a5ca14",
   "metadata": {},
   "source": [
    "#### Q.4) Follow/Unfollow given handle - \n",
    "#### 1.Open the Instagram Handle of “So Delhi”\n",
    "#### 2.Start following it. Print a message if you are already following\n",
    "#### 3.After following, unfollow the instagram handle. Print a message if you have already unfollowed."
   ]
  },
  {
   "cell_type": "code",
   "execution_count": null,
   "id": "05cf8401",
   "metadata": {},
   "outputs": [],
   "source": [
    "## FOLLOW SODELHI\n",
    "def follow():\n",
    "    if driver.find_element(by=By.XPATH,value='//span/span/button/div[contains(@class,\"_aacl _aaco _aacw _aad6 _aade\")]').text == '':\n",
    "        print(\"You are already following\")\n",
    "    else:\n",
    "        driver.find_element(by=By.XPATH,value='//span/span/button/div[contains(@class,\"_aacl _aaco _aacw _aad6 _aade\")]').click()\n",
    "follow()\n",
    "\n",
    "time.sleep(5)"
   ]
  },
  {
   "cell_type": "code",
   "execution_count": null,
   "id": "1ef8baad",
   "metadata": {},
   "outputs": [],
   "source": [
    "You are already following"
   ]
  },
  {
   "cell_type": "code",
   "execution_count": null,
   "id": "ef701bb7",
   "metadata": {},
   "outputs": [],
   "source": [
    "##UNFOLLOW SODELHI\n",
    "def unfollow():\n",
    "        if driver.find_element(by=By.XPATH,value='//span/span/button/div[contains(@class,\"_aacl _aaco _aacw _aad6 _aade\")]').text == 'Follow':\n",
    "            print(\"You are already NOT following it\")\n",
    "        else:\n",
    "            driver.find_element(by=By.XPATH,value='//span/span/button/div[contains(@class,\"_aacl _aaco _aacw _aad6 _aade\")]').click()\n",
    "            driver.find_element(by=By.XPATH,value='//button[text()=\"Unfollow\"]').click()\n",
    "unfollow()\n",
    "\n",
    "time.sleep(5)"
   ]
  },
  {
   "cell_type": "code",
   "execution_count": null,
   "id": "3c5c53d5",
   "metadata": {},
   "outputs": [],
   "source": [
    "You are already NOT following it"
   ]
  },
  {
   "cell_type": "markdown",
   "id": "f4875456",
   "metadata": {},
   "source": [
    "### Q.5) Like/Unlike posts\n",
    "#### Liking the top 30 posts of the ‘dilsefoodie'. Print message if you have already liked it.\n",
    "#### Unliking the top 30 posts of the ‘dilsefoodie’. Print message if you have already unliked it."
   ]
  },
  {
   "cell_type": "code",
   "execution_count": null,
   "id": "25907f41",
   "metadata": {},
   "outputs": [],
   "source": [
    "def like30():\n",
    "    openprofile(\"dilsefoodie\")\n",
    "    time.sleep(5)\n",
    "    res=driver.find_elements(by=By.XPATH,value='//div[contains(@class,\"_aabd _aa8k _aanf\")]')\n",
    "    for i in range(30):\n",
    "        res[i].click()\n",
    "        time.sleep(5)\n",
    "        j=driver.find_element(by=By.XPATH,value='//section[contains(@class,\"_aamu _aat0\")]')\n",
    "        if(j.find_element(by=By.TAG_NAME,value=\"svg\").get_attribute('aria-label')=='Like'):\n",
    "            j.find_element(by=By.TAG_NAME,value=\"span\").click()\n",
    "        else:\n",
    "            print('You have already liked post number', i+1)\n",
    "        j=driver.find_element(by=By.XPATH,value='//div[contains(@class,\"o9tjht9c jar9mtx6 mbzxb4f5 njoytozt\")]').click()\n",
    "        \n",
    "like30()\n",
    "\n",
    "\n",
    "time.sleep(5)"
   ]
  },
  {
   "cell_type": "code",
   "execution_count": null,
   "id": "33f0b319",
   "metadata": {},
   "outputs": [],
   "source": [
    "You have already liked post number 1\n",
    "You have already liked post number 2\n",
    "You have already liked post number 3\n",
    "You have already liked post number 4\n",
    "You have already liked post number 5\n",
    "You have already liked post number 6\n",
    "You have already liked post number 7\n",
    "You have already liked post number 8\n",
    "You have already liked post number 9\n",
    "You have already liked post number 10\n",
    "You have already liked post number 11\n",
    "You have already liked post number 12\n",
    "You have already liked post number 13\n",
    "You have already liked post number 14\n",
    "You have already liked post number 15\n",
    "You have already liked post number 16\n",
    "You have already liked post number 17\n",
    "You have already liked post number 18\n",
    "You have already liked post number 19\n",
    "....\n",
    ".....\n",
    ".......\n",
    ".........\n",
    "...........\n",
    "................\n",
    "....................\n",
    ".............................."
   ]
  },
  {
   "cell_type": "code",
   "execution_count": null,
   "id": "d3db22f1",
   "metadata": {},
   "outputs": [],
   "source": [
    "def unlike30():\n",
    "    openprofile(\"dilsefoodie\")\n",
    "    time.sleep(5)\n",
    "    res=driver.find_elements(by=By.XPATH,value='//div[contains(@class,\"_aabd _aa8k _aanf\")]')\n",
    "    for i in range(30):\n",
    "        res[i].click()\n",
    "        time.sleep(5)\n",
    "        j=driver.find_element(by=By.XPATH,value='//section[contains(@class,\"_aamu _aat0\")]')\n",
    "        if(j.find_element(by=By.TAG_NAME,value=\"svg\").get_attribute('aria-label')=='Unlike'):\n",
    "            j.find_element(by=By.TAG_NAME,value=\"span\").click()\n",
    "        else:\n",
    "            print('You have already Unliked post number', i+1)\n",
    "        j=driver.find_element(by=By.XPATH,value='//div[contains(@class,\"o9tjht9c jar9mtx6 mbzxb4f5 njoytozt\")]').click()\n",
    "        \n",
    "unlike30()\n",
    "\n",
    "\n",
    "time.sleep(5)"
   ]
  },
  {
   "cell_type": "code",
   "execution_count": null,
   "id": "203d5334",
   "metadata": {},
   "outputs": [],
   "source": [
    "You have already Unliked post number 1\n",
    "You have already Unliked post number 2\n",
    "You have already Unliked post number 3\n",
    "You have already Unliked post number 4\n",
    "You have already Unliked post number 5\n",
    "You have already Unliked post number 6\n",
    "You have already Unliked post number 7\n",
    "You have already Unliked post number 8\n",
    "You have already Unliked post number 9\n",
    "You have already Unliked post number 10\n",
    "You have already Unliked post number 11\n",
    "You have already Unliked post number 12\n",
    "You have already Unliked post number 13\n",
    "You have already Unliked post number 14\n",
    "You have already Unliked post number 15\n",
    "You have already Unliked post number 16\n",
    "You have already Unliked post number 17\n",
    "You have already Unliked post number 18\n",
    "You have already Unliked post number 19\n",
    "You have already Unliked post number 20\n",
    "You have already Unliked post number 21\n",
    "You have already Unliked post number 22\n",
    "You have already Unliked post number 23\n",
    "You have already Unliked post number 24\n",
    "You have already Unliked post number 25\n",
    "You have already Unliked post number 26\n",
    "You have already Unliked post number 27\n",
    "You have already Unliked post number 28\n",
    "You have already Unliked post number 29\n",
    "You have already Unliked post number 30"
   ]
  },
  {
   "cell_type": "markdown",
   "id": "b3ecb98b",
   "metadata": {},
   "source": [
    "### Q.6) Extract list of followers\n",
    "### Extract the usernames of the first 500 followers of ‘foodtalkindia’ and ‘sodelhi’.\n",
    "### Now print all the followers of “foodtalkindia” that you are following but those who don’t follow you."
   ]
  },
  {
   "cell_type": "code",
   "execution_count": null,
   "id": "939ef1b8",
   "metadata": {},
   "outputs": [],
   "source": [
    "##FUNCTION TO FIND FOLLOWERS OF A PROFILE\n",
    "\n",
    "def findfollowers(profile):\n",
    "    openprofile(profile)\n",
    "    time.sleep(5)\n",
    "    driver.find_element(by=By.XPATH,value='//li/a/div[contains(@class,\"_aacl _aacp _aacu _aacx _aad6 _aade\")]').click()\n",
    "    time.sleep(5)\n",
    "    res=driver.find_element(by=By.XPATH,value='//div/ul/div[contains(@class,\"_aae-\")]')  \n",
    "    res=res.find_elements_by_tag_name(\"li\")\n",
    "    c1=0\n",
    "    c2=500\n",
    "    while(len(res)<500):\n",
    "        driver.execute_script('document.getElementsByClassName(\"_aano\")[0].scrollTo(arguments[0],arguments[1]);',c1,c2)\n",
    "        time.sleep(5)\n",
    "        c1=c1+500\n",
    "        c2=c2+500\n",
    "        res=driver.find_element(by=By.XPATH,value='//div/ul/div[contains(@class,\"_aae-\")]')  \n",
    "        res=res.find_elements_by_tag_name(\"li\")\n",
    "    j=[]\n",
    "    result=[]\n",
    "    for i in range(500):\n",
    "        j=(res[i].find_elements_by_tag_name('span'))\n",
    "        result.append(j[0].text)\n",
    "    j=[]\n",
    "    for i in result:\n",
    "        if i != '' :\n",
    "            j.append(i)\n",
    "    \n",
    "    return j\n"
   ]
  },
  {
   "cell_type": "code",
   "execution_count": null,
   "id": "5e16a3b4",
   "metadata": {},
   "outputs": [],
   "source": [
    "print(findfollowers(\"foodtalkindia\"))"
   ]
  },
  {
   "cell_type": "code",
   "execution_count": null,
   "id": "5bcb19fe",
   "metadata": {},
   "outputs": [],
   "source": [
    "print(findfollowers(\"sodelhi\"))"
   ]
  },
  {
   "cell_type": "code",
   "execution_count": null,
   "id": "03dc52d9",
   "metadata": {},
   "outputs": [],
   "source": [
    "def foodtalkindiafollowers():\n",
    "    ## selecting me\n",
    "    driver.find_element(by=By.XPATH,value='//div/div/div/div/a[contains(@class,\"oajrlxb2 g5ia77u1 qu0x051f esr5mh6w e9989ue4 r7d6kgcz rq0escxv nhd2j8a9 nc684nl6 p7hjln8o kvgmc6g5 cxmmr5t8 oygrvhab hcukyx3x jb3vyjys rz4wbd8a qt6c0cv9 a8nywdso i1ao9s8h esuyzwwr f1sip0of lzcic4wl _aak1 _a6hd\")]').click()\n",
    "    ##select followers\n",
    "    driver.find_element(by=By.XPATH,value='//ul//li/a/div[contains(@class,\"_aacl _aacp _aacu _aacx _aad6 _aade\")]').click()\n",
    "    ##finding my followers list\n",
    "    res=driver.find_element(by=By.XPATH,value='//div/ul/div[contains(@class,\"_aae-\")]')  \n",
    "    res=res.find_elements_by_tag_name(\"li\")\n",
    "    followers=set()\n",
    "    for i in res:\n",
    "        followers.add(i.find_element_by_tag_name(\"span\").text)\n",
    "    ##finding my following list\n",
    "    driver.find_elements(by=By.XPATH,value='//ul//li/a/div[contains(@class,\"_aacl _aacp _aacu _aacx _aad6 _aade\")]')[1].click()\n",
    "    res=driver.find_element(by=By.XPATH,value='//div/ul/div[contains(@class,\"_aae-\")]')  \n",
    "    res=res.find_elements_by_tag_name(\"li\")\n",
    "    following=set()\n",
    "    for i in res:\n",
    "        j=i.find_elements_by_tag_name(\"span\")\n",
    "        if(j[0].text != \"\"):\n",
    "            following.add(j[0].text)\n",
    "        else:\n",
    "            following.add(j[1].text)\n",
    "    \n",
    "    ## to list all followers of foodtalkindia\n",
    "    \n",
    "    driver.find_element(by=By.XPATH,value='//div/div/div/div/input[@type=\"text\"]').send_keys(\"foodtalkindia\")\n",
    "    time.sleep(5)\n",
    "    driver.find_element(by=By.XPATH,value='//div[contains(@role,\"none\")]').click()\n",
    "    driver.find_element(by=By.XPATH,value='//ul//li/a/div[contains(@class,\"_aacl _aacp _aacu _aacx _aad6 _aade\")]').click()\n",
    "    current_height = driver.execute_script('return document.getElementsByClassName(\"_aano\")[0].scrollHeight;')\n",
    "    ## scroll all the way down until we get all followers\n",
    "    while True:\n",
    "        driver.execute_script('document.getElementsByClassName(\"_aano\")[0].scrollTo(0, arguments[0]);', current_height)\n",
    "        time.sleep(3)\n",
    "        new_height = driver.execute_script('return document.getElementsByClassName(\"_aano\")[0].scrollHeight;')\n",
    "        if new_height == current_height :\n",
    "            break\n",
    "        current_height = new_height\n",
    "   \n",
    "\n",
    "    ## find the followers name\n",
    "    res=driver.find_element(by=By.XPATH,value='//div/ul/div[contains(@class,\"_aae-\")]')  \n",
    "    res=res.find_elements_by_tag_name(\"li\")\n",
    "    foodtalkindiafollowers=set()\n",
    "    for i in res:\n",
    "        foodtalkindiafollowers.add(i.find_element_by_tag_name(\"span\").text)\n",
    "    ## finding the final result\n",
    "    Not_following_me=following - followers\n",
    "    \n",
    "    ##final result\n",
    "    answer_user_names = Not_following_me.intersection(foodtalkindiafollowers)\n",
    "    answer_user_names\n",
    "\n",
    "time.sleep(5)"
   ]
  },
  {
   "cell_type": "markdown",
   "id": "b6c76dd4",
   "metadata": {},
   "source": [
    "### Q.7) Check the story of ‘coding.ninjas’. Consider the following Scenarios and print error messages accordingly \n",
    "### If You have already seen the story.\n",
    "### Or The user has no story.\n",
    "### Or View the story if not yet seen"
   ]
  },
  {
   "cell_type": "code",
   "execution_count": null,
   "id": "ee98ea43",
   "metadata": {},
   "outputs": [],
   "source": [
    "def story_status():\n",
    "    openprofile(\"coding.ninjas\")\n",
    "    try:\n",
    "        wait= WebDriverWait(driver,6)\n",
    "        a=wait.until(EC.presence_of_element_located((By.XPATH,'//header/div/div/canvas')))\n",
    "        height=driver.find_element(by=By.XPATH,value='//header/div/div/canvas').get_attribute('height')\n",
    "        time.sleep(3)\n",
    "        if(int(height)==208):\n",
    "            print(\"You have already seen the story\")\n",
    "        else:\n",
    "            driver.find_element_by_class_name(\"_aa8h\").click()\n",
    "            print(\"seeing the story\")\n",
    "    except TimeoutException:\n",
    "        print(\"no story uploaded\")\n",
    "        time.sleep(2)\n",
    "\n",
    "story_status()"
   ]
  },
  {
   "cell_type": "code",
   "execution_count": null,
   "id": "f3515919",
   "metadata": {},
   "outputs": [],
   "source": [
    "seeing the story"
   ]
  }
 ],
 "metadata": {
  "kernelspec": {
   "display_name": "Python 3 (ipykernel)",
   "language": "python",
   "name": "python3"
  },
  "language_info": {
   "codemirror_mode": {
    "name": "ipython",
    "version": 3
   },
   "file_extension": ".py",
   "mimetype": "text/x-python",
   "name": "python",
   "nbconvert_exporter": "python",
   "pygments_lexer": "ipython3",
   "version": "3.9.12"
  }
 },
 "nbformat": 4,
 "nbformat_minor": 5
}
